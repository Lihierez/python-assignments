{
 "cells": [
  {
   "cell_type": "code",
   "execution_count": 1,
   "id": "ea11665f-8feb-4a7e-ad35-1fb3ccbf7476",
   "metadata": {},
   "outputs": [],
   "source": [
    "import math"
   ]
  },
  {
   "cell_type": "code",
   "execution_count": 2,
   "id": "5a1abc3a-4ab1-4c26-9698-4a0523328210",
   "metadata": {},
   "outputs": [
    {
     "name": "stdout",
     "output_type": "stream",
     "text": [
      "30\n",
      "22\n"
     ]
    }
   ],
   "source": [
    "width=5\n",
    "length=6\n",
    "rectangle_area= width*length\n",
    "rectangle_circumference= 2*(width+length)\n",
    "print(rectangle_area)\n",
    "print(rectangle_circumference)"
   ]
  },
  {
   "cell_type": "code",
   "execution_count": 3,
   "id": "79c34fde-780c-474c-9670-d7d305c01e45",
   "metadata": {},
   "outputs": [
    {
     "name": "stdout",
     "output_type": "stream",
     "text": [
      "28.274333882308138\n",
      "18.84955592153876\n"
     ]
    }
   ],
   "source": [
    "radius=3\n",
    "circle_area= math.pi * radius**2\n",
    "circle_circumference= 2*math.pi*radius\n",
    "print(circle_area)\n",
    "print(circle_circumference)"
   ]
  },
  {
   "cell_type": "code",
   "execution_count": null,
   "id": "6d13d5ca-94d2-4cc9-926e-85da8e73aadc",
   "metadata": {},
   "outputs": [],
   "source": []
  }
 ],
 "metadata": {
  "kernelspec": {
   "display_name": "Python 3 (ipykernel)",
   "language": "python",
   "name": "python3"
  },
  "language_info": {
   "codemirror_mode": {
    "name": "ipython",
    "version": 3
   },
   "file_extension": ".py",
   "mimetype": "text/x-python",
   "name": "python",
   "nbconvert_exporter": "python",
   "pygments_lexer": "ipython3",
   "version": "3.13.0"
  }
 },
 "nbformat": 4,
 "nbformat_minor": 5
}
