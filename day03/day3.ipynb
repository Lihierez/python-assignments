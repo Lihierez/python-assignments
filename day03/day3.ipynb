{
 "cells": [
  {
   "cell_type": "code",
   "execution_count": null,
   "id": "ea11665f-8feb-4a7e-ad35-1fb3ccbf7476",
   "metadata": {},
   "outputs": [],
   "source": [
    "import math"
   ]
  },
  {
   "cell_type": "code",
   "execution_count": 2,
   "id": "5a1abc3a-4ab1-4c26-9698-4a0523328210",
   "metadata": {},
   "outputs": [
    {
     "name": "stdout",
     "output_type": "stream",
     "text": [
      "Rectangle area is:  30\n",
      "Rectangle circumference is: 22\n"
     ]
    }
   ],
   "source": [
    "width= int(input(\"Enter Width:\"))\n",
    "length= int(input(\"Enter height:\"))\n",
    "area= width*length\n",
    "circumference= 2*(width+length)\n",
    "print('Rectangle area is: ', area)\n",
    "print('Rectangle circumference is:', circumference)"
   ]
  },
  {
   "cell_type": "code",
   "execution_count": 4,
   "id": "79c34fde-780c-474c-9670-d7d305c01e45",
   "metadata": {},
   "outputs": [
    {
     "name": "stdout",
     "output_type": "stream",
     "text": [
      "circle area is: 78.53981633974483\n",
      "circle circumference is: 31.41592653589793\n"
     ]
    }
   ],
   "source": [
    "radius = int(input(\"Enter radius:\"))\n",
    "area= math.pi * radius**2\n",
    "circumference= 2*math.pi* radius\n",
    "print('circle area is:', area)\n",
    "print('circle circumference is:', circumference)"
   ]
  }
 ],
 "metadata": {
  "kernelspec": {
   "display_name": "Python 3",
   "language": "python",
   "name": "python3"
  },
  "language_info": {
   "codemirror_mode": {
    "name": "ipython",
    "version": 3
   },
   "file_extension": ".py",
   "mimetype": "text/x-python",
   "name": "python",
   "nbconvert_exporter": "python",
   "pygments_lexer": "ipython3",
   "version": "3.13.0"
  }
 },
 "nbformat": 4,
 "nbformat_minor": 5
}
