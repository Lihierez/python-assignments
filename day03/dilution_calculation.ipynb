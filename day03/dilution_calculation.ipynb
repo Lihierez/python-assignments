{
 "cells": [
  {
   "cell_type": "markdown",
   "metadata": {
    "id": "QO27BfQYX15A"
   },
   "source": [
    "# Dilution Calculation and Visualization"
   ]
  },
  {
   "cell_type": "markdown",
   "metadata": {},
   "source": []
  },
  {
   "cell_type": "markdown",
   "metadata": {
    "id": "FmmUaZjVX15B"
   },
   "source": [
    "### Introduction:\n",
    "In this assignment, we will practice using Python to solve a common problem in biology labs: calculating dilutions of solutions. You will learn how to use a for loop to perform repeated calculations and use matplotlib to visualize your results."
   ]
  },
  {
   "cell_type": "markdown",
   "metadata": {
    "id": "WDUM7JOkX15C"
   },
   "source": [
    "### Biology Background:\n",
    "When working in the lab, you often need to prepare solutions with specific concentrations. If you have a stock solution with a known concentration (\n",
    "C1) and you want to dilute it to a lower concentration (C2)\n",
    "you use the following formula:\n",
    "<img src=\"https://toptipbio.com/wp-content/uploads/2017/02/C1V1C2V2.jpg\" alt=\"Dilution Formula\" width=\"300\">\n",
    "\n",
    "\n",
    "Where:\n",
    "- **\\(C1\\)**: Initial (stock) concentration\n",
    "- **\\(V1\\)**: Volume of the stock solution used\n",
    "- **\\(C2\\)**: Final concentration after dilution\n",
    "- **\\(V2\\)**: Final total volume of the solution"
   ]
  },
  {
   "cell_type": "markdown",
   "metadata": {
    "id": "65qk2qxlX15C"
   },
   "source": [
    "\n",
    "### Explanation of Basic Python Operations\n",
    "\n",
    "- **`*` (Multiplication)**:\n",
    "  - Example:\n",
    "    ```python\n",
    "    result = 3 * 4  # This equals 12\n",
    "    ```\n",
    "\n",
    "- **`/` (Division)**:\n",
    "  - Example:\n",
    "    ```python\n",
    "    result = 7 / 2  # This equals 3.5\n",
    "    ```\n",
    "\n",
    "- **`-` (Subtraction)**:\n",
    "  - Example:\n",
    "    ```python\n",
    "    result = 10 - 4  # This equals 6\n",
    "    ```\n",
    "\n",
    "- **`+` (Addition)**:\n",
    "  - Example:\n",
    "    ```python\n",
    "    result = 5 + 7  # This equals 12\n",
    "    ```\n",
    "\n",
    "These basic operations are very helpful for performing calculations in Python.\n"
   ]
  },
  {
   "cell_type": "markdown",
   "metadata": {
    "id": "GeIs6IUXX15C"
   },
   "source": [
    "### 📝 Task: Complete the Code\n",
    "\n",
    "Complete the code by filling in the missing parts marked with `# TODO #`.\n",
    "\n",
    "Good luck, and have fun! 😊\n"
   ]
  },
  {
   "cell_type": "markdown",
   "metadata": {
    "id": "uYGRGCsKX15C"
   },
   "source": [
    "\n",
    "\n",
    "\n",
    "## <font color='cyan'> Part 1: Define the Given Values"
   ]
  },
  {
   "cell_type": "code",
   "execution_count": 12,
   "metadata": {
    "id": "vRozBGvZX15D"
   },
   "outputs": [],
   "source": [
    "# Given values\n",
    "C1_values = [2, 5,10,3.5, 0.5, 7, 8, 1, 5.5, 7]# TODO : at least 10 values\n",
    "V1 = 3  # TODO:Initial volume\n",
    "V2 = 0.5 # TODO: Final volume"
   ]
  },
  {
   "cell_type": "markdown",
   "metadata": {
    "id": "HDf8qCPzX15D"
   },
   "source": [
    "\n",
    "##  <font color='cyan'> Part 2: Calculate the Final Concentrations Using a For Loop"
   ]
  },
  {
   "cell_type": "markdown",
   "metadata": {
    "id": "Ni52iCQ9X15D"
   },
   "source": [
    "A **for loop** is a way to repeat a set of instructions multiple times. It allows you to iterate over a list of items and perform an action on each item in the list.\n",
    "**How It Works:**\n",
    "The basic structure of a `for` loop looks like this:\n",
    "\n",
    "```python\n",
    "for i in list_of_i:\n",
    "    # Perform an action with each i\n",
    "    print(i)\n",
    "``````\n",
    "    \n",
    "- `for`: This keyword starts the loop.\n",
    "- `i`: This is a variable that takes on the value of each item in the list, one at a time.\n",
    "- `in`: This keyword tells Python to look inside the list of items.\n",
    "- `list_of_i`: This is the list that contains the items you want to loop through.\n",
    "\n",
    "\n",
    "This way, we don’t have to write the formula multiple times. The loop does the repetitive work for us!\n",
    "[🔗 Watch the YouTube Video on For Loops](https://www.youtube.com/watch?v=zmIdC0_0BgY)\n"
   ]
  },
  {
   "cell_type": "code",
   "execution_count": 13,
   "metadata": {
    "id": "PptjwfT6X15D"
   },
   "outputs": [
    {
     "name": "stdout",
     "output_type": "stream",
     "text": [
      "Initial concentration: 2 mg/mL -> Final concentration: 12.00 mg/mL\n",
      "Initial concentration: 5 mg/mL -> Final concentration: 30.00 mg/mL\n",
      "Initial concentration: 10 mg/mL -> Final concentration: 60.00 mg/mL\n",
      "Initial concentration: 3.5 mg/mL -> Final concentration: 21.00 mg/mL\n",
      "Initial concentration: 0.5 mg/mL -> Final concentration: 3.00 mg/mL\n",
      "Initial concentration: 7 mg/mL -> Final concentration: 42.00 mg/mL\n",
      "Initial concentration: 8 mg/mL -> Final concentration: 48.00 mg/mL\n",
      "Initial concentration: 1 mg/mL -> Final concentration: 6.00 mg/mL\n",
      "Initial concentration: 5.5 mg/mL -> Final concentration: 33.00 mg/mL\n",
      "Initial concentration: 7 mg/mL -> Final concentration: 42.00 mg/mL\n"
     ]
    }
   ],
   "source": [
    "# Create an empty list to store the calculated C2 values\n",
    "C2_values = []\n",
    "\n",
    "# Part 1: Calculate C2 using a for loop\n",
    "for C1 in C1_values:\n",
    "    C2 = (C1*V1)/V2 # TODO: Calculate final concentration\n",
    "    C2_values.append(C2)\n",
    "    print(f\"Initial concentration: {C1} mg/mL -> Final concentration: {C2:.2f} mg/mL\")\n"
   ]
  },
  {
   "cell_type": "markdown",
   "metadata": {
    "id": "nXRDG7UeX15E"
   },
   "source": [
    "\n",
    "##  <font color='cyan'> Part 3: Calculate the Slope"
   ]
  },
  {
   "cell_type": "markdown",
   "metadata": {
    "id": "YAqoKcfMX15E"
   },
   "source": [
    "\n",
    "\n",
    "\n",
    "The **slope** tells us how quickly the final concentration (\\(C_2\\)) changes as the initial concentration (\\(C_1\\)) increases. It represents the **rate of change** of \\(C_2\\) with respect to \\(C_1\\).\n",
    "\n",
    "We will use the formula:\n",
    "\n",
    "<img src=\"https://studybay.com/assets/marketing/blog/slope-formula/slope-formula-calculation-7.jpg\" alt=\"Slope Formula\" width=\"400\">\n",
    "\n",
    "Where:\n",
    "- \\(y_2\\) and \\(y_1\\) are consecutive values of the final concentration (\\(C_2\\)).\n",
    "- \\(x_2\\) and \\(x_1\\) are consecutive values of the initial concentration (\\(C_1\\)).\n",
    "\n",
    "\n",
    "Slope calculating using Python:\n",
    " - Use the list of the values C1 and C2\n",
    " - Write a Python code to calculate the slope between each consecutive pair of points.\n",
    " - Print the slope values.\n",
    "\n",
    "\n"
   ]
  },
  {
   "cell_type": "code",
   "execution_count": 16,
   "metadata": {
    "id": "cSeJo6dCkIQo"
   },
   "outputs": [
    {
     "name": "stdout",
     "output_type": "stream",
     "text": [
      "[2, 5, 10, 3.5, 0.5, 7, 8, 1, 5.5, 7]\n",
      "[12.0, 30.0, 60.0, 21.0, 3.0, 42.0, 48.0, 6.0, 33.0, 42.0]\n",
      "Calculated slopes: [6.0, 6.0, 6.0, 6.0, 6.0, 6.0, 6.0, 6.0, 6.0]\n"
     ]
    }
   ],
   "source": [
    "# Given data\n",
    "C1_values  # TODO: Initial concentrations (mg/mL)\n",
    "C2_values # TODO: Final concentrations (mg/mL)\n",
    "print(C1_values)\n",
    "print(C2_values)\n",
    "\n",
    "# Create an empty list to store slope values\n",
    "slopes = []\n",
    "\n",
    "# Calculate the slope for each consecutive pair of points\n",
    "for i in range(1, len(C1_values)):\n",
    "    x1, x2 = C1_values[i - 1], C1_values[i]\n",
    "    y1, y2 = C2_values[i - 1], C2_values[i]\n",
    "    slope =  (y2-y1)/(x2-x1)  # TODO: Calculate the slope using the formula (y2 - y1) / (x2 - x1)\n",
    "\n",
    "    slopes.append(slope)\n",
    "\n",
    "# Print the list of calculated slopes\n",
    "print(\"Calculated slopes:\", slopes)\n",
    "\n"
   ]
  },
  {
   "cell_type": "markdown",
   "metadata": {
    "id": "8dZJhUvUjmjl"
   },
   "source": [
    "\n",
    "##  <font color='cyan'> Part 4 : yours turn !"
   ]
  },
  {
   "cell_type": "markdown",
   "metadata": {
    "id": "uRXwBpWzjztR"
   },
   "source": [
    "For this final task, you’ll combine everything you’ve learned about defining variables, using for loops, and working with lists to solve a problem of your own creation.\n",
    "\n",
    "Instructions:\n",
    "\n",
    "*   Choose a scientific or mathematical formula that interests you (e.g., population growth, michealis menten, acceleration, etc.).\n",
    "\n",
    "*   Define a list of input parameters relevant to your chosen formula.\n",
    "Use a for loop to iterate through the parameters and calculate the result for each.\n",
    "\n",
    "\n",
    "*   Save all the results in a new list.\n",
    "*   Print both the input parameters and their corresponding results.\n",
    "\n",
    "\n",
    "\n",
    "\n"
   ]
  },
  {
   "cell_type": "code",
   "execution_count": 63,
   "metadata": {},
   "outputs": [
    {
     "name": "stdout",
     "output_type": "stream",
     "text": [
      "GAPDH average: [16.031666666666666, 16.321, 18.096333333333334]\n",
      "Calculated ∆CT: [17.936333333333337, 18.60333333333333, 16.96033333333333, 17.993999999999996, 18.675, 18.358999999999998, 14.181666666666665, 15.091666666666669, 15.016666666666666]\n",
      "Calculated ∆∆CT: [0.0, 0.6669999999999945, -0.9760000000000062, 0.05766666666665898, 0.7386666666666635, 0.422666666666661, -3.7546666666666724, -2.8446666666666687, -2.9196666666666715]\n",
      "Calculated 2**∆∆CT: [1.0, 0.6298149899737021, 1.9670041480525051, 0.9608168341360319, 0.5992929607500721, 0.7460443662836642, 13.497933692873783, 7.183399073713693, 7.566712689964079]\n"
     ]
    }
   ],
   "source": [
    "#I chose to calculae ∆CT and ∆∆CT for qPCR analysis\n",
    "\n",
    "GAPDH_CT_results= [16.015, 16.123, 15.957, 16.389, 16.222, 16.352, 18.043, 18.522, 17.724]\n",
    "TBXT_CT_resuls= [33.968, 34.635 ,32.992, 34.315, 34.996, 34.680, 32.278, 33.188, 33.113]\n",
    "len(GAPDH_CT_results)\n",
    "samples_avrage= []\n",
    "for i in range(0, len(GAPDH_CT_results),3):\n",
    "    slice_results = GAPDH_CT_results[i:i+3]\n",
    "    cal_avrage= sum(slice_results)/ len(slice_results)\n",
    "    samples_avrage.append(cal_avrage)\n",
    "print('GAPDH average:', samples_avrage)\n",
    "\n",
    "delta_CT = []\n",
    "for i in range(0, len(TBXT_CT_resuls), 3):\n",
    "    slice_TBXT = TBXT_CT_resuls[i:i+3]\n",
    "    for j in range(len(slice_TBXT)):\n",
    "        # For each corresponding set of 3 values in TBXT_CT_resuls, subtract the average\n",
    "        cal_delta_CT = slice_TBXT[j] - samples_avrage[i // 3]\n",
    "        delta_CT.append(cal_delta_CT)\n",
    "\n",
    "print(\"Calculated ∆CT:\", delta_CT)\n",
    "\n",
    "delta_delta_ct=[]\n",
    "for ct in range(0,len(delta_CT)):\n",
    "    del_del_cal= delta_CT[ct] - delta_CT[0]\n",
    "    delta_delta_ct.append(del_del_cal)\n",
    "\n",
    "print('Calculated ∆∆CT:', delta_delta_ct)\n",
    "\n",
    "log_del_del_CT = []\n",
    "for z in range(0, len(delta_delta_ct)):\n",
    "    log= 2**(-delta_delta_ct[z])\n",
    "    log_del_del_CT.append(log)\n",
    "\n",
    "print ('Calculated 2**∆∆CT:', log_del_del_CT)"
   ]
  }
 ],
 "metadata": {
  "colab": {
   "provenance": []
  },
  "kernelspec": {
   "display_name": "Python 3",
   "language": "python",
   "name": "python3"
  },
  "language_info": {
   "codemirror_mode": {
    "name": "ipython",
    "version": 3
   },
   "file_extension": ".py",
   "mimetype": "text/x-python",
   "name": "python",
   "nbconvert_exporter": "python",
   "pygments_lexer": "ipython3",
   "version": "3.13.0"
  }
 },
 "nbformat": 4,
 "nbformat_minor": 0
}
