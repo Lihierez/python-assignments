{
 "cells": [
  {
   "cell_type": "markdown",
   "id": "9b1db80e",
   "metadata": {},
   "source": [
    "# The assignment: Sequences and stats\n",
    "Write a program that given one or more files with a sequence in it will display some basic statistics about the sequences.\n",
    "Write a few tests that will verify the results.\n",
    "\n",
    "## seq_statistics function:\n",
    "- Insert the function all the files pathways\n",
    "- Files must be in FASTA format"
   ]
  },
  {
   "cell_type": "markdown",
   "id": "ba296e3c",
   "metadata": {},
   "source": [
    "### Printing one of the files content I used for example\n"
   ]
  },
  {
   "cell_type": "code",
   "execution_count": 1,
   "id": "378860df-0922-456b-a0c9-3efd6c29e39b",
   "metadata": {},
   "outputs": [
    {
     "name": "stdout",
     "output_type": "stream",
     "text": [
      ">random sequence 1 consisting of 200 bases.\n",
      "tgaatatgtgaaacgcggtagctaaactgcttgaccaaactgagctttagtactgacatt\n",
      "tcgagcgccatcattcttagacactatcgtcctacatgccagcacatcgtggatacgatc\n",
      "tcagtaagatgttttcgaagattattgttgccggacggcaccatagaggacatacccatt\n",
      "catcatcctgagagtacatt\n",
      "\n"
     ]
    }
   ],
   "source": [
    "file_path = \"/Users/lihierez/Python course/python-assignments/day05/RamdomSeq1.txt\"\n",
    "\n",
    "with open(file_path, 'r') as file:\n",
    "    content = file.read()\n",
    "\n",
    "print(content)"
   ]
  },
  {
   "cell_type": "code",
   "execution_count": null,
   "id": "1cdcb355-f36b-4760-83cd-d0136af45c8a",
   "metadata": {},
   "outputs": [
    {
     "name": "stdout",
     "output_type": "stream",
     "text": [
      "RamdomSeq1.txt\n",
      "A: 57 (28.5%)\n",
      "T: 55 (27.5%)\n",
      "G: 41 (20.5%)\n",
      "C: 47 (23.5%)\n",
      "Unknown: 0 (0.0%)\n",
      "Total: 200\n",
      "\n",
      "RamdomSeq2.txt\n",
      "A: 49 (24.5%)\n",
      "T: 47 (23.5%)\n",
      "G: 57 (28.5%)\n",
      "C: 46 (23.0%)\n",
      "Unknown: 1 (0.5%)\n",
      "Total: 200\n",
      "\n",
      "All files summary:\n",
      "A: 106 (26.5%)\n",
      "T: 102 (25.5%)\n",
      "G: 98 (24.5%)\n",
      "C: 93 (23.2%)\n",
      "Unknown: 1 (0.2%)\n",
      "Total: 400\n"
     ]
    }
   ],
   "source": [
    "def seq_statistics(*files):\n",
    "    total_A = total_T = total_G = total_C = total_unknown = 0\n",
    "\n",
    "    for file in files:\n",
    "        file_name = file.split('/')[-1]\n",
    "        with open(file, 'r') as f:\n",
    "            lines = f.readlines()\n",
    "\n",
    "        # Validate FASTA\n",
    "        if not lines or not lines[0].startswith(\">\"):\n",
    "            print(f\"ERROR: {file_name} does not appear to be as a valid FASTA file format.\")\n",
    "            continue\n",
    "\n",
    "        seq = ''.join(line.strip() for line in lines[1:])\n",
    "        seq = seq.upper()\n",
    "\n",
    "        A_count = T_count = G_count = C_count = unknown_count = 0\n",
    "        for nuc in seq:\n",
    "            if nuc == 'A':\n",
    "                A_count += 1\n",
    "            elif nuc == 'T':\n",
    "                T_count += 1\n",
    "            elif nuc == 'G':\n",
    "                G_count += 1\n",
    "            elif nuc == 'C':\n",
    "                C_count += 1\n",
    "            else:\n",
    "                unknown_count += 1\n",
    "\n",
    "        total_nuc = len(seq)\n",
    "        A_perc = A_count / total_nuc * 100 if total_nuc else 0\n",
    "        T_perc = T_count / total_nuc * 100 if total_nuc else 0\n",
    "        G_perc = G_count / total_nuc * 100 if total_nuc else 0\n",
    "        C_perc = C_count / total_nuc * 100 if total_nuc else 0\n",
    "        unknown_perc = unknown_count / total_nuc * 100 if total_nuc else 0\n",
    "\n",
    "        print(f\"{file_name}\")\n",
    "        print(f\"A: {A_count} ({A_perc:.1f}%)\")\n",
    "        print(f\"T: {T_count} ({T_perc:.1f}%)\")\n",
    "        print(f\"G: {G_count} ({G_perc:.1f}%)\")\n",
    "        print(f\"C: {C_count} ({C_perc:.1f}%)\")\n",
    "        print(f\"Unknown: {unknown_count} ({unknown_perc:.1f}%)\")\n",
    "        print(f\"Total: {total_nuc}\\n\")\n",
    "\n",
    "        total_A += A_count\n",
    "        total_T += T_count\n",
    "        total_G += G_count\n",
    "        total_C += C_count\n",
    "        total_unknown += unknown_count\n",
    "\n",
    "    global_total = total_A + total_T + total_G + total_C + total_unknown\n",
    "    if global_total:\n",
    "        print(\"All files summary:\")\n",
    "        print(f\"A: {total_A} ({total_A / global_total * 100:.1f}%)\")\n",
    "        print(f\"T: {total_T} ({total_T / global_total * 100:.1f}%)\")\n",
    "        print(f\"G: {total_G} ({total_G / global_total * 100:.1f}%)\")\n",
    "        print(f\"C: {total_C} ({total_C / global_total * 100:.1f}%)\")\n",
    "        print(f\"Unknown: {total_unknown} ({total_unknown / global_total * 100:.1f}%)\")\n",
    "        print(f\"Total: {global_total}\")\n",
    "\n",
    "\n",
    "seq_statistics(\"/Users/lihierez/Python course/python-assignments/day05/RamdomSeq1.txt\", \"/Users/lihierez/Python course/python-assignments/day05/RamdomSeq2.txt\")"
   ]
  }
 ],
 "metadata": {
  "kernelspec": {
   "display_name": "Python 3",
   "language": "python",
   "name": "python3"
  },
  "language_info": {
   "codemirror_mode": {
    "name": "ipython",
    "version": 3
   },
   "file_extension": ".py",
   "mimetype": "text/x-python",
   "name": "python",
   "nbconvert_exporter": "python",
   "pygments_lexer": "ipython3",
   "version": "3.13.0"
  }
 },
 "nbformat": 4,
 "nbformat_minor": 5
}
