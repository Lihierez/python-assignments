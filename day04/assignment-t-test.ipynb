{
 "cells": [
  {
   "cell_type": "markdown",
   "metadata": {},
   "source": [
    "# Homework Assignment: t-test, Histograms, and Boxplots"
   ]
  },
  {
   "cell_type": "markdown",
   "metadata": {},
   "source": [
    "In this assignment we will learn how to perform statistical comparisons using the t-test, visualize distributions with histograms, and summarize data with boxplots"
   ]
  },
  {
   "cell_type": "markdown",
   "metadata": {},
   "source": [
    "## <font color = \"pink\" > Task 1: Generate Two Random Distributions\n"
   ]
  },
  {
   "cell_type": "markdown",
   "metadata": {},
   "source": [
    "Generate two random distributions of size 100 each using numpy.random.randn. Add a shift to make the distributions different (e.g., add  +2 to the other).\n"
   ]
  },
  {
   "cell_type": "code",
   "execution_count": null,
   "metadata": {},
   "outputs": [
    {
     "name": "stdout",
     "output_type": "stream",
     "text": [
      "[-0.94841412 -0.1968945   0.05488243 -0.34399338 -0.35188886  0.13540445\n",
      "  0.21789386  0.48863345 -0.78618647  0.84265474 -1.34112823  1.13743723\n",
      "  0.51290389  0.37786983  1.06475615  1.50266962  2.30418192 -1.60015872\n",
      " -1.17063336  0.75898874 -0.28685343 -0.49670872  0.45563381  0.41233767\n",
      "  0.88670779 -0.00446023  1.59420168  0.29844287  0.58657393 -0.81625835\n",
      " -0.59384898  0.4101784   1.53312189  0.73521637 -0.74390341 -0.4288077\n",
      "  1.38719785  1.46426699  1.76535255  1.11162941 -0.86976521  0.45636189\n",
      " -1.70702788  1.05516544 -0.1356416   1.53461958  1.31383801  0.7768308\n",
      "  0.48302319 -0.66405741  0.5732421  -0.59184951  0.58921531  0.71494813\n",
      "  1.65598134  0.31220075 -1.11133162  0.08542221 -0.17293428  0.1658363\n",
      " -0.56166088  0.85328725  2.08315511 -0.21294989 -0.07812185 -0.16844576\n",
      " -0.27536579  0.35627501  0.09406986  0.87765201 -0.68094321  0.84000229\n",
      " -0.72061985  0.80345689  0.95482846 -0.95466606  0.87196116  2.04034575\n",
      "  0.6949246   0.56563001 -0.6926343   1.18181504  1.18811177  0.28069353\n",
      "  0.59894703 -1.4257607   0.2106168   2.46036164 -1.32338379 -1.06610751\n",
      " -0.32404101 -1.90311994 -0.35713403 -0.19425773  0.15261182 -1.71007884\n",
      "  0.29567533 -1.18975064  0.1724996  -1.75684325]\n"
     ]
    }
   ],
   "source": [
    "import numpy as np\n",
    "\n",
    "# Generate random distributions\n",
    "dist1 = np.random.randn(100)\n",
    "dist2 = np.random.randn(100) + 2 "
   ]
  },
  {
   "cell_type": "markdown",
   "metadata": {},
   "source": [
    "## <font color = \"pink\" > Task 2: Perform a t-test"
   ]
  },
  {
   "cell_type": "markdown",
   "metadata": {},
   "source": [
    "## t-test\n",
    "\n",
    "t-test checks if two populations are statistically different from each other.\n",
    "\n",
    "- [\n",
    "Python package for statistical functions: `scipy.stats.ttest_ind`](https://docs.scipy.org/doc/scipy/reference/generated/scipy.stats.ttest_ind.html)\n",
    "\n",
    "It returns a **P-value**. If the P-value is smaller than some threshold (e.g., 0.05, which is commonly used), we say that there is **(1 – threshold) * 100% confidence** that the populations are different.\n",
    "\n",
    "### Key Points:\n",
    "- **Smaller P-values** (usually below 0.05) indicate that the difference between two populations is statistically significant.\n",
    "- t-test assumes that the populations are sampled from **normal distributions**.\n",
    "- The **P-value magnitude** depends on the number of samples. Larger sample sizes lead to smaller P-values if the distributions are statistically different.\n",
    "\n"
   ]
  },
  {
   "cell_type": "markdown",
   "metadata": {},
   "source": [
    "\n",
    "Use the scipy.stats.ttest_ind function to perform an independent t-test on the two distributions"
   ]
  },
  {
   "cell_type": "code",
   "execution_count": null,
   "metadata": {},
   "outputs": [],
   "source": [
    "from scipy.stats import ttest_ind\n",
    "\n",
    "# Perform t-test on the 2 populations using the function `ttest_ind()` and print it\n",
    "\n",
    "print(\"t-statistic:\")\n",
    "print(\"p-value:\")"
   ]
  },
  {
   "cell_type": "markdown",
   "metadata": {},
   "source": [
    "## <font color = \"pink\" >Task 3: Visualize with Histograms"
   ]
  },
  {
   "cell_type": "markdown",
   "metadata": {},
   "source": [
    "### Plot Histograms of Two Distributions\n",
    "\n",
    "- Use `matplotlib.pyplot.hist` to plot histograms of the two distributions.  \n",
    "- Use **different colors** for each histogram and add a **legend** to indicate the distributions.  \n",
    "- Refer to the [Matplotlib `hist` documentation](https://matplotlib.org/stable/api/_as_gen/matplotlib.pyplot.hist.html) for more details.\n"
   ]
  },
  {
   "cell_type": "code",
   "execution_count": null,
   "metadata": {},
   "outputs": [],
   "source": [
    "import matplotlib.pyplot as plt\n",
    "\n",
    "# Plot histograms\n",
    "plt.hist(dist1) #TODO:\n",
    "plt.hist(dist2)#TODO:\n",
    "plt.legend()\n",
    "plt.title()#TODO:\n",
    "plt.xlabel()#TODO:\n",
    "plt.ylabel()#TODO:\n",
    "plt.show()\n"
   ]
  },
  {
   "cell_type": "markdown",
   "metadata": {},
   "source": [
    "## <font color = \"pink\" >Task 4: Create Boxplots"
   ]
  },
  {
   "cell_type": "code",
   "execution_count": null,
   "metadata": {},
   "outputs": [],
   "source": [
    "# Create boxplots\n",
    "plt.boxplot([dist1, dist2])#TODO:\n",
    "plt.title()#TODO:\n",
    "plt.ylabel()#TODO:\n",
    "plt.show()\n"
   ]
  },
  {
   "cell_type": "markdown",
   "metadata": {},
   "source": [
    "## <font color ='pink'> # Task 4: Multiple Questions"
   ]
  },
  {
   "cell_type": "markdown",
   "metadata": {},
   "source": [
    "### Let's review what we learned in the previous class to refine our understanding 📝 :\n",
    "\n",
    "\n",
    "1. Write a loop to ask the user **five subtraction questions**.\n",
    "2. Use the following Python features:\n",
    "   - `random` to generate random numbers for the questions.\n",
    "   - `input()` to allow the user to answer each question.\n",
    "   - `int()` to convert the user input to an integer for comparison.\n",
    "3. Keep track of how many answers are correct.\n",
    "4. At the end, display the user's total score (e.g., \"You scored X/5!\").\n",
    "\n",
    "\n"
   ]
  },
  {
   "cell_type": "markdown",
   "metadata": {},
   "source": []
  }
 ],
 "metadata": {
  "kernelspec": {
   "display_name": "Python 3",
   "language": "python",
   "name": "python3"
  },
  "language_info": {
   "codemirror_mode": {
    "name": "ipython",
    "version": 3
   },
   "file_extension": ".py",
   "mimetype": "text/x-python",
   "name": "python",
   "nbconvert_exporter": "python",
   "pygments_lexer": "ipython3",
   "version": "3.13.0"
  }
 },
 "nbformat": 4,
 "nbformat_minor": 2
}
